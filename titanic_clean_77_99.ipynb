{
 "cells": [
  {
   "cell_type": "code",
   "execution_count": 15,
   "id": "6d05a2bb-e78a-44e3-aa4e-3a9c45db0238",
   "metadata": {},
   "outputs": [],
   "source": [
    "# Import packages\n",
    "### YOUR CODE HERE ### \n",
    "import numpy as np\n",
    "import pandas as pd\n",
    "\n",
    "\n",
    "# This is the classifier\n",
    "from xgboost import XGBClassifier\n",
    "\n",
    "# This is the function that helps plot feature importance \n",
    "from xgboost import plot_importance\n",
    "\n",
    "from sklearn.model_selection import GridSearchCV, train_test_split\n",
    "from sklearn.metrics import accuracy_score, precision_score, recall_score,\\\n",
    "f1_score, confusion_matrix, ConfusionMatrixDisplay, RocCurveDisplay\n",
    "\n",
    "import matplotlib.pyplot as plt\n",
    "import seaborn as sns\n",
    "\n",
    "# This displays all of the columns, preventing Juptyer from redacting them.\n",
    "pd.set_option('display.max_columns', None)\n",
    "\n",
    "# This module lets us save our models once we fit them.\n",
    "import pickle"
   ]
  },
  {
   "cell_type": "code",
   "execution_count": 17,
   "id": "31951bc7-d5d5-45e7-acc1-47c55ad4bf63",
   "metadata": {},
   "outputs": [],
   "source": [
    "# load data\n",
    "data = pd.read_csv(\"/Users/marykristalinmallari/Library/CloudStorage/OneDrive-Personal/Study/Kaggle/Code_Practice/titanic/train.csv\")"
   ]
  },
  {
   "cell_type": "code",
   "execution_count": 19,
   "id": "675283a1-fd2c-43a7-91a1-99cb35f83ca2",
   "metadata": {},
   "outputs": [],
   "source": [
    "#data transformation and feature engineering\n",
    "data['Sex'] = np.where(data['Sex']==\"female\",1,0)\n",
    "data['Sex'] = data['Sex'].astype(\"category\")\n",
    "data['Embarked'] = data['Embarked'].astype(\"category\")"
   ]
  },
  {
   "cell_type": "code",
   "execution_count": 21,
   "id": "e39dfb4c-d806-44be-bcd1-a03f3ccbb238",
   "metadata": {},
   "outputs": [],
   "source": [
    "#MODEL\n",
    "#store data\n",
    "X = data.drop(columns = ['Ticket','Name','PassengerId','Cabin','Survived'])\n",
    "y = data['Survived']\n",
    "\n",
    "#split data\n",
    "X_train, X_test, y_train, y_test = train_test_split(X, y, test_size = 0.30,stratify = y,random_state = 0)\n",
    "\n",
    "# split data and set parameters\n",
    "X_train, X_test, y_train, y_test = train_test_split (X, y, test_size = .2, random_state = 42)\n",
    "xgb = XGBClassifier(objective = 'binary:logistic', random_state = 0, n_jobs = -1, enable_categorical = True)\n",
    "cv_params = {'max_depth': [3,4,5],\n",
    "             'min_child_weight': [3,4,5,6,7],\n",
    "             'learning_rate': [0.1, 0.2, 0.3],\n",
    "             'n_estimators': [90,100,110,120,130],\n",
    "             }  \n",
    "scoring = ('accuracy', 'recall', 'precision','f1')\n",
    "xgb_cv = GridSearchCV(xgb, cv_params, scoring=scoring, cv=5, refit='accuracy', n_jobs = -1)"
   ]
  },
  {
   "cell_type": "code",
   "execution_count": 25,
   "id": "30c9b495-c6e5-44cc-b305-1ac6d0bbe95a",
   "metadata": {},
   "outputs": [
    {
     "data": {
      "text/plain": [
       "0.8356741849699596"
      ]
     },
     "execution_count": 25,
     "metadata": {},
     "output_type": "execute_result"
    }
   ],
   "source": [
    "# fit\n",
    "xgb_cv.fit(X_train,y_train)\n",
    "\n",
    "xgb_cv.best_score_"
   ]
  },
  {
   "cell_type": "code",
   "execution_count": 28,
   "id": "8ed36cd5-4ffe-4a21-ba4b-de3321f56c7f",
   "metadata": {},
   "outputs": [
    {
     "data": {
      "text/plain": [
       "0.8212290502793296"
      ]
     },
     "execution_count": 28,
     "metadata": {},
     "output_type": "execute_result"
    }
   ],
   "source": [
    "#test model on test data\n",
    "y_pred = xgb_cv.predict(X_test)\n",
    "accuracy_score(y_test, y_pred)"
   ]
  },
  {
   "cell_type": "code",
   "execution_count": null,
   "id": "021aedbd-c0b3-4745-8ce6-81bb36ae296d",
   "metadata": {},
   "outputs": [],
   "source": []
  }
 ],
 "metadata": {
  "kernelspec": {
   "display_name": "Python 3 (ipykernel)",
   "language": "python",
   "name": "python3"
  },
  "language_info": {
   "codemirror_mode": {
    "name": "ipython",
    "version": 3
   },
   "file_extension": ".py",
   "mimetype": "text/x-python",
   "name": "python",
   "nbconvert_exporter": "python",
   "pygments_lexer": "ipython3",
   "version": "3.12.4"
  }
 },
 "nbformat": 4,
 "nbformat_minor": 5
}
