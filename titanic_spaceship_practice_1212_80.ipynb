{
 "cells": [
  {
   "cell_type": "markdown",
   "id": "b07b0610-f61e-468c-a3eb-1a80935b25ec",
   "metadata": {},
   "source": [
    "## Import Packages"
   ]
  },
  {
   "cell_type": "code",
   "execution_count": 311,
   "id": "fcf71607-2754-4ebe-aaef-ae862c922ae0",
   "metadata": {},
   "outputs": [],
   "source": [
    "# Import packages\n",
    "### YOUR CODE HERE ### \n",
    "import numpy as np\n",
    "import pandas as pd\n",
    "\n",
    "# Pipeline\n",
    "from sklearn.pipeline import Pipeline\n",
    "\n",
    "from sklearn.impute import SimpleImputer\n",
    "# This is the classifier\n",
    "from xgboost import XGBClassifier\n",
    "\n",
    "# This is the function that helps plot feature importance \n",
    "from xgboost import plot_importance\n",
    "\n",
    "from sklearn.model_selection import GridSearchCV, train_test_split\n",
    "from sklearn.metrics import accuracy_score, precision_score, recall_score,\\\n",
    "f1_score, confusion_matrix, ConfusionMatrixDisplay, RocCurveDisplay, mean_absolute_error\n",
    "\n",
    "import matplotlib.pyplot as plt\n",
    "import seaborn as sns\n",
    "\n",
    "# This displays all of the columns, preventing Juptyer from redacting them.\n",
    "pd.set_option('display.max_columns', None)\n",
    "\n",
    "# This module lets us save our models once we fit them.\n",
    "import pickle"
   ]
  },
  {
   "cell_type": "code",
   "execution_count": 313,
   "id": "f063d0dc-6895-42e5-9143-0c719190abd3",
   "metadata": {},
   "outputs": [],
   "source": [
    "data = pd.read_csv(\"/Users/marykristalinmallari/Library/CloudStorage/OneDrive-Personal/Study/Kaggle/Code_Practice/titanic_spaceship/train.csv\")"
   ]
  },
  {
   "cell_type": "markdown",
   "id": "b6853485-8e84-45d7-a0dc-43f9d8c20bde",
   "metadata": {},
   "source": [
    "## Notes\n",
    "vars with importance based on EDA: CryoSleep"
   ]
  },
  {
   "cell_type": "code",
   "execution_count": 4,
   "id": "f741c975-123b-448f-b062-02e1a63f5d09",
   "metadata": {},
   "outputs": [
    {
     "name": "stdout",
     "output_type": "stream",
     "text": [
      "<class 'pandas.core.frame.DataFrame'>\n",
      "RangeIndex: 8693 entries, 0 to 8692\n",
      "Data columns (total 14 columns):\n",
      " #   Column        Non-Null Count  Dtype  \n",
      "---  ------        --------------  -----  \n",
      " 0   PassengerId   8693 non-null   object \n",
      " 1   HomePlanet    8492 non-null   object \n",
      " 2   CryoSleep     8476 non-null   object \n",
      " 3   Cabin         8494 non-null   object \n",
      " 4   Destination   8511 non-null   object \n",
      " 5   Age           8514 non-null   float64\n",
      " 6   VIP           8490 non-null   object \n",
      " 7   RoomService   8512 non-null   float64\n",
      " 8   FoodCourt     8510 non-null   float64\n",
      " 9   ShoppingMall  8485 non-null   float64\n",
      " 10  Spa           8510 non-null   float64\n",
      " 11  VRDeck        8505 non-null   float64\n",
      " 12  Name          8493 non-null   object \n",
      " 13  Transported   8693 non-null   bool   \n",
      "dtypes: bool(1), float64(6), object(7)\n",
      "memory usage: 891.5+ KB\n"
     ]
    }
   ],
   "source": [
    "data.info()"
   ]
  },
  {
   "cell_type": "markdown",
   "id": "c8719481-3fb2-4f3b-85a4-44de38842acf",
   "metadata": {},
   "source": [
    "## Feature Engineering"
   ]
  },
  {
   "cell_type": "code",
   "execution_count": 5,
   "id": "18d2af64-8573-4eec-ae6d-110ce77301d9",
   "metadata": {},
   "outputs": [],
   "source": [
    "data['TotalSpent'] = data['RoomService']+ data['FoodCourt']+data['ShoppingMall']+data['Spa'] +data['VRDeck']"
   ]
  },
  {
   "cell_type": "code",
   "execution_count": 315,
   "id": "225c726f-f2e7-42a9-bfa4-74a9e2771a09",
   "metadata": {},
   "outputs": [],
   "source": [
    "cabin = data['Cabin'].astype(str)\n",
    "cabinsplit = [i.split('/') for i in cabin]\n",
    "pd.DataFrame(cabinsplit)\n",
    "cabinsplit = pd.DataFrame(cabinsplit).rename(columns = {0:\"cabin1\", 1:\"cabin2\", 2:\"cabin3\"})\n",
    "data=data.join(cabinsplit)"
   ]
  },
  {
   "cell_type": "code",
   "execution_count": 317,
   "id": "046f6d76-cb6c-4259-9002-ea1feb5ddffa",
   "metadata": {},
   "outputs": [],
   "source": [
    "categoricalcols = ['HomePlanet','Destination','cabin1','cabin3']\n",
    "boolcols = ['CryoSleep','VIP']"
   ]
  },
  {
   "cell_type": "code",
   "execution_count": 319,
   "id": "17212576-b170-482a-92a3-9a12cca2a104",
   "metadata": {},
   "outputs": [],
   "source": [
    "data[categoricalcols]=data[categoricalcols].astype('category')\n",
    "data[boolcols]=data[boolcols].astype('boolean')"
   ]
  },
  {
   "cell_type": "code",
   "execution_count": 321,
   "id": "24ab8d2d-bf45-4905-9741-f9d8ecb6dfd8",
   "metadata": {},
   "outputs": [],
   "source": [
    "# assign X and y\n",
    "X = data.drop(columns = ['Name','PassengerId','Transported','Cabin','cabin2'])\n",
    "y = data['Transported']"
   ]
  },
  {
   "cell_type": "markdown",
   "id": "0170a0e0-50b2-45b6-bb89-448363c2f546",
   "metadata": {},
   "source": [
    "## Model train, fit, and score"
   ]
  },
  {
   "cell_type": "code",
   "execution_count": 323,
   "id": "84064e8d-7fde-438c-9ffd-d1f9e82564ff",
   "metadata": {},
   "outputs": [
    {
     "data": {
      "text/plain": [
       "0.8110445877661638"
      ]
     },
     "execution_count": 323,
     "metadata": {},
     "output_type": "execute_result"
    }
   ],
   "source": [
    "# split data and set parameters\n",
    "X_train, X_test, y_train, y_test = train_test_split (X, y, test_size = .2,random_state = 42)\n",
    "xgb = XGBClassifier(objective = 'binary:logistic', random_state = 0, n_jobs = -1, enable_categorical = True)\n",
    "cv_params = {'max_depth': [1,2,3,4,None],\n",
    "             'min_child_weight': [1,2,3,4,5],\n",
    "             'learning_rate': [0.1, 0.2, 0.3],\n",
    "             'n_estimators': [20, 30, 40, 50, 70, 90],\n",
    "             }  \n",
    "scoring = ('accuracy', 'recall', 'precision','f1','neg_mean_absolute_error')\n",
    "xgb_cv = GridSearchCV(xgb, cv_params, scoring=scoring, cv=5, refit='accuracy', n_jobs = -1)\n",
    "\n",
    "# fit\n",
    "xgb_cv.fit(X_train,y_train)\n",
    "\n",
    "xgb_cv.best_score_"
   ]
  },
  {
   "cell_type": "code",
   "execution_count": 325,
   "id": "0537c853-c637-401b-856e-c0a5a0649a19",
   "metadata": {},
   "outputs": [
    {
     "data": {
      "text/plain": [
       "<Axes: title={'center': 'Feature importance'}, xlabel='F score', ylabel='Features'>"
      ]
     },
     "execution_count": 325,
     "metadata": {},
     "output_type": "execute_result"
    },
    {
     "data": {
      "image/png": "[encoded data removed]",
      "text/plain": [
       "<Figure size 640x480 with 1 Axes>"
      ]
     },
     "metadata": {},
     "output_type": "display_data"
    }
   ],
   "source": [
    "plot_importance(xgb_cv.best_estimator_)"
   ]
  },
  {
   "cell_type": "code",
   "execution_count": 83,
   "id": "389f8c37-4fa9-4236-a848-a63ed4e8e7b5",
   "metadata": {},
   "outputs": [
    {
     "data": {
      "text/plain": [
       "{'learning_rate': 0.1,\n",
       " 'max_depth': None,\n",
       " 'min_child_weight': 4,\n",
       " 'n_estimators': 50}"
      ]
     },
     "execution_count": 83,
     "metadata": {},
     "output_type": "execute_result"
    }
   ],
   "source": [
    "xgb_cv.best_params_"
   ]
  },
  {
   "cell_type": "markdown",
   "id": "484550ba-f44f-48ff-bc08-173ac96b98c8",
   "metadata": {},
   "source": [
    "## Test Data Prediction for Submission"
   ]
  },
  {
   "cell_type": "code",
   "execution_count": 327,
   "id": "c779df53-f193-4e94-a05c-97804c394d2d",
   "metadata": {},
   "outputs": [],
   "source": [
    "testdata = pd.read_csv(\"/Users/marykristalinmallari/Library/CloudStorage/OneDrive-Personal/Study/Kaggle/Code_Practice/titanic_spaceship/test.csv\")"
   ]
  },
  {
   "cell_type": "code",
   "execution_count": 334,
   "id": "0dcdf9a4-7517-4409-99b7-d835a992e792",
   "metadata": {},
   "outputs": [],
   "source": [
    "# data preprocessing\n",
    "\n",
    "## Cabin categories\n",
    "cabin = testdata['Cabin'].astype(str)\n",
    "testcabinsplit = pd.DataFrame([i.split('/') for i in cabin])\n",
    "testcabinsplit = testcabinsplit.rename(columns = {0:\"cabin1\", 1:\"cabin2\", 2:\"cabin3\"})\n",
    "testdata = testdata.join(testcabinsplit)"
   ]
  },
  {
   "cell_type": "code",
   "execution_count": null,
   "id": "5a8b4dc3-a67e-454f-bd4a-3be22ee72c3e",
   "metadata": {},
   "outputs": [],
   "source": [
    "## Total Spent\n",
    "testdata['TotalSpent'] = testdata['RoomService']+ testdata['FoodCourt']+testdata['ShoppingMall']+testdata['Spa'] +testdata['VRDeck']"
   ]
  },
  {
   "cell_type": "code",
   "execution_count": 338,
   "id": "f4dccece-6fb9-424c-9bc5-4379cd2445e1",
   "metadata": {},
   "outputs": [],
   "source": [
    "testdata[categoricalcols]=testdata[categoricalcols].astype('category')\n",
    "testdata[boolcols]=testdata[boolcols].astype('boolean')\n",
    "testX = testdata.drop(columns = ['Name','PassengerId','Cabin','cabin2'])"
   ]
  },
  {
   "cell_type": "code",
   "execution_count": 340,
   "id": "0df3409f-08dd-42ab-96ec-cb4620fd9d2a",
   "metadata": {},
   "outputs": [],
   "source": [
    "import os\n",
    "os.chdir(\"/Users/marykristalinmallari/Library/CloudStorage/OneDrive-Personal/Study/Kaggle/Code_Practice/titanic_spaceship\")"
   ]
  },
  {
   "cell_type": "code",
   "execution_count": 342,
   "id": "9e8060ca-3487-42c9-a2c7-d6e3ece53f17",
   "metadata": {},
   "outputs": [],
   "source": [
    "# predict and save to csv\n",
    "test_pred = pd.DataFrame(xgb_cv.predict(testX))\n",
    "test_pred = test_pred.rename(columns = {0:\"Transported\"})\n",
    "test_pred = test_pred.astype('boolean')\n",
    "predictions = pd.DataFrame(testdata['PassengerId'])\n",
    "predictions = predictions.join(test_pred)\n",
    "predictions.to_csv('titanic_spaceship_predictions_20241212_02.csv', index=False)"
   ]
  },
  {
   "cell_type": "markdown",
   "id": "2432b936-7a91-4269-b0ab-a186c8d88add",
   "metadata": {},
   "source": [
    "## Extra EDA"
   ]
  },
  {
   "cell_type": "code",
   "execution_count": 87,
   "id": "59a0cddd-ce47-4532-b9a3-28ad52410579",
   "metadata": {},
   "outputs": [
    {
     "data": {
      "text/plain": [
       "<seaborn.axisgrid.FacetGrid at 0x1641ca2a0>"
      ]
     },
     "execution_count": 87,
     "metadata": {},
     "output_type": "execute_result"
    },
    {
     "data": {
      "image/png": "[encoded data removed]",
      "text/plain": [
       "<Figure size 593.986x500 with 1 Axes>"
      ]
     },
     "metadata": {},
     "output_type": "display_data"
    }
   ],
   "source": [
    "sns.displot(data,x = 'Age', hue = 'Transported', multiple = 'stack')"
   ]
  },
  {
   "cell_type": "code",
   "execution_count": 103,
   "id": "787fff9d-cd3f-43d1-94ad-29f7278d9405",
   "metadata": {},
   "outputs": [
    {
     "data": {
      "text/plain": [
       "<seaborn.axisgrid.FacetGrid at 0x16815aae0>"
      ]
     },
     "execution_count": 103,
     "metadata": {},
     "output_type": "execute_result"
    },
    {
     "data": {
      "image/png": "[encoded data removed]",
      "text/plain": [
       "<Figure size 500x500 with 1 Axes>"
      ]
     },
     "metadata": {},
     "output_type": "display_data"
    }
   ],
   "source": [
    "age_trans_perc = pd.DataFrame(data[data['Transported']==True]['Age'].value_counts()/data['Age'].value_counts())"
   ]
  },
  {
   "cell_type": "markdown",
   "id": "6a67ab3f-97bb-4279-9e5f-f12a0e812bfb",
   "metadata": {},
   "source": [
    "## Age and Transported EDA"
   ]
  },
  {
   "cell_type": "code",
   "execution_count": 261,
   "id": "42e57b62-f3c5-4c43-a0fe-fa8276201d08",
   "metadata": {},
   "outputs": [
    {
     "data": {
      "text/html": [
       "<div>\n",
       "<style scoped>\n",
       "    .dataframe tbody tr th:only-of-type {\n",
       "        vertical-align: middle;\n",
       "    }\n",
       "\n",
       "    .dataframe tbody tr th {\n",
       "        vertical-align: top;\n",
       "    }\n",
       "\n",
       "    .dataframe thead th {\n",
       "        text-align: right;\n",
       "    }\n",
       "</style>\n",
       "<table border=\"1\" class=\"dataframe\">\n",
       "  <thead>\n",
       "    <tr style=\"text-align: right;\">\n",
       "      <th></th>\n",
       "      <th>count</th>\n",
       "      <th>Age</th>\n",
       "    </tr>\n",
       "  </thead>\n",
       "  <tbody>\n",
       "    <tr>\n",
       "      <th>count</th>\n",
       "      <td>79.000000</td>\n",
       "      <td>79.000000</td>\n",
       "    </tr>\n",
       "    <tr>\n",
       "      <th>mean</th>\n",
       "      <td>0.514524</td>\n",
       "      <td>39.000000</td>\n",
       "    </tr>\n",
       "    <tr>\n",
       "      <th>std</th>\n",
       "      <td>0.114566</td>\n",
       "      <td>22.949219</td>\n",
       "    </tr>\n",
       "    <tr>\n",
       "      <th>min</th>\n",
       "      <td>0.142857</td>\n",
       "      <td>0.000000</td>\n",
       "    </tr>\n",
       "    <tr>\n",
       "      <th>25%</th>\n",
       "      <td>0.457689</td>\n",
       "      <td>19.500000</td>\n",
       "    </tr>\n",
       "    <tr>\n",
       "      <th>50%</th>\n",
       "      <td>0.500000</td>\n",
       "      <td>39.000000</td>\n",
       "    </tr>\n",
       "    <tr>\n",
       "      <th>75%</th>\n",
       "      <td>0.564254</td>\n",
       "      <td>58.500000</td>\n",
       "    </tr>\n",
       "    <tr>\n",
       "      <th>max</th>\n",
       "      <td>0.808989</td>\n",
       "      <td>78.000000</td>\n",
       "    </tr>\n",
       "  </tbody>\n",
       "</table>\n",
       "</div>"
      ],
      "text/plain": [
       "           count        Age\n",
       "count  79.000000  79.000000\n",
       "mean    0.514524  39.000000\n",
       "std     0.114566  22.949219\n",
       "min     0.142857   0.000000\n",
       "25%     0.457689  19.500000\n",
       "50%     0.500000  39.000000\n",
       "75%     0.564254  58.500000\n",
       "max     0.808989  78.000000"
      ]
     },
     "execution_count": 261,
     "metadata": {},
     "output_type": "execute_result"
    }
   ],
   "source": [
    "test = pd.DataFrame(data[data['Transported']==True]['Age'].value_counts())\n",
    "test = test.sort_index()\n",
    "test2 = pd.DataFrame(data['Age'].value_counts()).sort_index()\n",
    "ageperc = test/test2\n",
    "age = pd.DataFrame(sorted(data['Age'].unique()))\n",
    "ageperc = ageperc.join(age)\n",
    "ageperc = ageperc.rename(mapper = {0:\"Age\"}, axis = 1)\n",
    "ageperc.describe()"
   ]
  },
  {
   "cell_type": "code",
   "execution_count": null,
   "id": "035fb390-a31f-464a-a695-269ecb6534da",
   "metadata": {},
   "outputs": [],
   "source": []
  }
 ],
 "metadata": {
  "kernelspec": {
   "display_name": "Python 3 (ipykernel)",
   "language": "python",
   "name": "python3"
  },
  "language_info": {
   "codemirror_mode": {
    "name": "ipython",
    "version": 3
   },
   "file_extension": ".py",
   "mimetype": "text/x-python",
   "name": "python",
   "nbconvert_exporter": "python",
   "pygments_lexer": "ipython3",
   "version": "3.12.4"
  }
 },
 "nbformat": 4,
 "nbformat_minor": 5
}
