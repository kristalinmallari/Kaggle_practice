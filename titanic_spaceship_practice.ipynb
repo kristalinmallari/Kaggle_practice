{
 "cells": [
  {
   "cell_type": "code",
   "execution_count": 77,
   "id": "fcf71607-2754-4ebe-aaef-ae862c922ae0",
   "metadata": {},
   "outputs": [],
   "source": [
    "# Import packages\n",
    "### YOUR CODE HERE ### \n",
    "import numpy as np\n",
    "import pandas as pd\n",
    "\n",
    "# Pipeline\n",
    "from sklearn.pipeline import Pipeline\n",
    "\n",
    "from sklearn.impute import SimpleImputer\n",
    "# This is the classifier\n",
    "from xgboost import XGBClassifier\n",
    "\n",
    "# This is the function that helps plot feature importance \n",
    "from xgboost import plot_importance\n",
    "\n",
    "from sklearn.model_selection import GridSearchCV, train_test_split\n",
    "from sklearn.metrics import accuracy_score, precision_score, recall_score,\\\n",
    "f1_score, confusion_matrix, ConfusionMatrixDisplay, RocCurveDisplay, mean_absolute_error\n",
    "\n",
    "import matplotlib.pyplot as plt\n",
    "import seaborn as sns\n",
    "\n",
    "# This displays all of the columns, preventing Juptyer from redacting them.\n",
    "pd.set_option('display.max_columns', None)\n",
    "\n",
    "# This module lets us save our models once we fit them.\n",
    "import pickle"
   ]
  },
  {
   "cell_type": "code",
   "execution_count": null,
   "id": "724bcd8f-500f-4c0a-84a5-a93672d7869c",
   "metadata": {},
   "outputs": [],
   "source": [
    "#Notes\n",
    "#vars with importance based on EDA: CryoSleep"
   ]
  },
  {
   "cell_type": "code",
   "execution_count": 4,
   "id": "f063d0dc-6895-42e5-9143-0c719190abd3",
   "metadata": {},
   "outputs": [],
   "source": [
    "data = pd.read_csv(\"/Users/marykristalinmallari/Library/CloudStorage/OneDrive-Personal/Study/Kaggle/Code_Practice/titanic_spaceship/train.csv\")"
   ]
  },
  {
   "cell_type": "code",
   "execution_count": 8,
   "id": "f741c975-123b-448f-b062-02e1a63f5d09",
   "metadata": {},
   "outputs": [
    {
     "name": "stdout",
     "output_type": "stream",
     "text": [
      "<class 'pandas.core.frame.DataFrame'>\n",
      "RangeIndex: 8693 entries, 0 to 8692\n",
      "Data columns (total 14 columns):\n",
      " #   Column        Non-Null Count  Dtype  \n",
      "---  ------        --------------  -----  \n",
      " 0   PassengerId   8693 non-null   object \n",
      " 1   HomePlanet    8492 non-null   object \n",
      " 2   CryoSleep     8476 non-null   object \n",
      " 3   Cabin         8494 non-null   object \n",
      " 4   Destination   8511 non-null   object \n",
      " 5   Age           8514 non-null   float64\n",
      " 6   VIP           8490 non-null   object \n",
      " 7   RoomService   8512 non-null   float64\n",
      " 8   FoodCourt     8510 non-null   float64\n",
      " 9   ShoppingMall  8485 non-null   float64\n",
      " 10  Spa           8510 non-null   float64\n",
      " 11  VRDeck        8505 non-null   float64\n",
      " 12  Name          8493 non-null   object \n",
      " 13  Transported   8693 non-null   bool   \n",
      "dtypes: bool(1), float64(6), object(7)\n",
      "memory usage: 891.5+ KB\n"
     ]
    }
   ],
   "source": [
    "data.info()"
   ]
  },
  {
   "cell_type": "code",
   "execution_count": 34,
   "id": "18d2af64-8573-4eec-ae6d-110ce77301d9",
   "metadata": {},
   "outputs": [],
   "source": [
    "data['TotalSpent'] = data['RoomService']+ data['FoodCourt']+data['ShoppingMall']+data['Spa'] +data['VRDeck']"
   ]
  },
  {
   "cell_type": "code",
   "execution_count": 69,
   "id": "0316181b-e3ed-4f7c-8fcb-0b3aa074d7cb",
   "metadata": {},
   "outputs": [],
   "source": [
    "notcryo = data[data['CryoSleep']==False]"
   ]
  },
  {
   "cell_type": "code",
   "execution_count": 99,
   "id": "1fa50036-fbe6-4105-aae4-bd76c28bcf88",
   "metadata": {},
   "outputs": [
    {
     "data": {
      "text/plain": [
       "<seaborn.axisgrid.FacetGrid at 0x1744ad670>"
      ]
     },
     "execution_count": 99,
     "metadata": {},
     "output_type": "execute_result"
    },
    {
     "data": {
      "image/png": "[encoded data removed]",
      "text/plain": [
       "<Figure size 593.986x500 with 1 Axes>"
      ]
     },
     "metadata": {},
     "output_type": "display_data"
    }
   ],
   "source": [
    "sns.displot(data = data[data['TotalSpent']>5000], x = 'TotalSpent', hue = 'Transported', multiple= 'stack')"
   ]
  },
  {
   "cell_type": "code",
   "execution_count": 73,
   "id": "51f592e6-0430-4bb8-82e5-6c4e8ae2b039",
   "metadata": {},
   "outputs": [],
   "source": [
    "cryo = data[data['CryoSleep']==True]"
   ]
  },
  {
   "cell_type": "code",
   "execution_count": 101,
   "id": "898c746e-cf7f-4d0a-890e-2a024ffba055",
   "metadata": {},
   "outputs": [
    {
     "data": {
      "text/plain": [
       "Transported\n",
       "True     2483\n",
       "False     554\n",
       "Name: count, dtype: int64"
      ]
     },
     "execution_count": 101,
     "metadata": {},
     "output_type": "execute_result"
    }
   ],
   "source": [
    "cryo['Transported'].value_counts()"
   ]
  },
  {
   "cell_type": "code",
   "execution_count": 62,
   "id": "046f6d76-cb6c-4259-9002-ea1feb5ddffa",
   "metadata": {},
   "outputs": [],
   "source": [
    "categoricalcols = ['HomePlanet','Destination']\n",
    "boolcols = ['CryoSleep','VIP']"
   ]
  },
  {
   "cell_type": "code",
   "execution_count": 64,
   "id": "17212576-b170-482a-92a3-9a12cca2a104",
   "metadata": {},
   "outputs": [],
   "source": [
    "data[categoricalcols]=data[categoricalcols].astype('category')\n",
    "data[boolcols]=data[boolcols].astype('boolean')"
   ]
  },
  {
   "cell_type": "code",
   "execution_count": 66,
   "id": "24ab8d2d-bf45-4905-9741-f9d8ecb6dfd8",
   "metadata": {},
   "outputs": [],
   "source": [
    "# assign X and y\n",
    "X = data.drop(columns = ['Name','PassengerId','RoomService','FoodCourt','ShoppingMall','Spa','VRDeck','Transported','Cabin'])\n",
    "y = data['Transported']"
   ]
  },
  {
   "cell_type": "code",
   "execution_count": 156,
   "id": "84064e8d-7fde-438c-9ffd-d1f9e82564ff",
   "metadata": {},
   "outputs": [
    {
     "data": {
      "text/plain": [
       "0.7405838147598385"
      ]
     },
     "execution_count": 156,
     "metadata": {},
     "output_type": "execute_result"
    }
   ],
   "source": [
    "# split data and set parameters\n",
    "X_train, X_test, y_train, y_test = train_test_split (X, y, test_size = .2,random_state = 42)\n",
    "xgb = XGBClassifier(objective = 'binary:logistic', random_state = 0, n_jobs = -1, enable_categorical = True)\n",
    "cv_params = {'max_depth': [1,2,3,4,None],\n",
    "             'min_child_weight': [1,2,3,4,5],\n",
    "             'learning_rate': [0.1, 0.2, 0.3],\n",
    "             'n_estimators': [20, 30, 40, 50, 70, 90],\n",
    "             }  \n",
    "scoring = ('accuracy', 'recall', 'precision','f1','neg_mean_absolute_error')\n",
    "xgb_cv = GridSearchCV(xgb, cv_params, scoring=scoring, cv=5, refit='accuracy', n_jobs = -1)\n",
    "\n",
    "# fit\n",
    "xgb_cv.fit(X_train,y_train)\n",
    "\n",
    "xgb_cv.best_score_"
   ]
  },
  {
   "cell_type": "code",
   "execution_count": 158,
   "id": "0537c853-c637-401b-856e-c0a5a0649a19",
   "metadata": {},
   "outputs": [
    {
     "data": {
      "text/plain": [
       "<Axes: title={'center': 'Feature importance'}, xlabel='F score', ylabel='Features'>"
      ]
     },
     "execution_count": 158,
     "metadata": {},
     "output_type": "execute_result"
    },
    {
     "data": {
      "image/png": "[encoded data removed]",
      "text/plain": [
       "<Figure size 640x480 with 1 Axes>"
      ]
     },
     "metadata": {},
     "output_type": "display_data"
    }
   ],
   "source": [
    "plot_importance(xgb_cv.best_estimator_)"
   ]
  },
  {
   "cell_type": "code",
   "execution_count": 160,
   "id": "389f8c37-4fa9-4236-a848-a63ed4e8e7b5",
   "metadata": {},
   "outputs": [
    {
     "data": {
      "text/plain": [
       "{'learning_rate': 0.1,\n",
       " 'max_depth': 3,\n",
       " 'min_child_weight': 1,\n",
       " 'n_estimators': 40}"
      ]
     },
     "execution_count": 160,
     "metadata": {},
     "output_type": "execute_result"
    }
   ],
   "source": [
    "xgb_cv.best_params_"
   ]
  },
  {
   "cell_type": "code",
   "execution_count": 162,
   "id": "c779df53-f193-4e94-a05c-97804c394d2d",
   "metadata": {},
   "outputs": [],
   "source": [
    "testdata = pd.read_csv(\"/Users/marykristalinmallari/Library/CloudStorage/OneDrive-Personal/Study/Kaggle/Code_Practice/titanic_spaceship/test.csv\")"
   ]
  },
  {
   "cell_type": "code",
   "execution_count": 164,
   "id": "0dcdf9a4-7517-4409-99b7-d835a992e792",
   "metadata": {},
   "outputs": [],
   "source": [
    "# data preprocessing\n",
    "testdata['TotalSpent'] = testdata['RoomService']+ testdata['FoodCourt']+testdata['ShoppingMall']+testdata['Spa'] +testdata['VRDeck']\n",
    "testdata[categoricalcols]=testdata[categoricalcols].astype('category')\n",
    "testdata[boolcols]=testdata[boolcols].astype('boolean')\n",
    "testX = data.drop(columns = ['Name','PassengerId','RoomService','FoodCourt','ShoppingMall','Spa','VRDeck','Transported','Cabin'])"
   ]
  },
  {
   "cell_type": "code",
   "execution_count": 166,
   "id": "0df3409f-08dd-42ab-96ec-cb4620fd9d2a",
   "metadata": {},
   "outputs": [],
   "source": [
    "import os\n",
    "os.chdir(\"/Users/marykristalinmallari/Library/CloudStorage/OneDrive-Personal/Study/Kaggle/Code_Practice/titanic_spaceship\")"
   ]
  },
  {
   "cell_type": "code",
   "execution_count": 168,
   "id": "9e8060ca-3487-42c9-a2c7-d6e3ece53f17",
   "metadata": {},
   "outputs": [],
   "source": [
    "# predict and save to csv\n",
    "test_pred = pd.DataFrame(xgb_cv.predict(testX))\n",
    "test_pred = test_pred.rename(columns = {0:\"Transported\"})\n",
    "test_pred = test_pred.astype('boolean')\n",
    "predictions = pd.DataFrame(testdata['PassengerId'])\n",
    "predictions = predictions.join(test_pred)\n",
    "predictions.to_csv('titanic_spaceship_predictions_20241210_02.csv', index=False)"
   ]
  },
  {
   "cell_type": "code",
   "execution_count": null,
   "id": "59a0cddd-ce47-4532-b9a3-28ad52410579",
   "metadata": {},
   "outputs": [],
   "source": []
  }
 ],
 "metadata": {
  "kernelspec": {
   "display_name": "Python 3 (ipykernel)",
   "language": "python",
   "name": "python3"
  },
  "language_info": {
   "codemirror_mode": {
    "name": "ipython",
    "version": 3
   },
   "file_extension": ".py",
   "mimetype": "text/x-python",
   "name": "python",
   "nbconvert_exporter": "python",
   "pygments_lexer": "ipython3",
   "version": "3.12.4"
  }
 },
 "nbformat": 4,
 "nbformat_minor": 5
}
